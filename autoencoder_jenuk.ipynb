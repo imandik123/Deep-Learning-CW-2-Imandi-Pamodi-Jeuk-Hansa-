{
 "cells": [
  {
   "cell_type": "code",
   "execution_count": 21,
   "metadata": {},
   "outputs": [],
   "source": [
    "%matplotlib inline\n",
    "import torch\n",
    "import matplotlib.pyplot as plt\n",
    "import torch.nn as nn\n",
    "import torch.nn.functional as F\n",
    "from torch.autograd import Variable\n",
    "import torch.optim as optim\n",
    "import torchvision\n",
    "from torchvision import datasets, transforms\n",
    "import numpy as np\n",
    "from PIL import Image\n",
    "from sklearn.metrics import confusion_matrix\n",
    "import matplotlib.pyplot as plt\n",
    "from matplotlib import pyplot\n",
    "import seaborn as sns\n",
    "from sklearn.metrics import classification_report\n",
    "\n",
    "import copy\n",
    "import time"
   ]
  },
  {
   "cell_type": "markdown",
   "metadata": {},
   "source": [
    "Downloading dataset"
   ]
  },
  {
   "cell_type": "code",
   "execution_count": 22,
   "metadata": {},
   "outputs": [],
   "source": [
    "# imagenet_data = torchvision.datasets.FashionMNIST('./data/fashion/')\n",
    "trainLoader = torch.utils.data.DataLoader(\n",
    "    datasets.FashionMNIST(\n",
    "        './data/fashion/', train=True, download=False, transform=transforms.Compose([\n",
    "            transforms.ToTensor()\n",
    "        ])\n",
    "    ), batch_size=1024, shuffle=True, num_workers=1\n",
    ")\n",
    "testLoader = torch.utils.data.DataLoader(\n",
    "    datasets.FashionMNIST(\n",
    "        './data/fashion/', train=False, download=False, transform=transforms.Compose([\n",
    "            transforms.ToTensor()\n",
    "        ])\n",
    "    ), batch_size=1024, shuffle=True, num_workers=1\n",
    ")"
   ]
  },
  {
   "cell_type": "code",
   "execution_count": 23,
   "metadata": {},
   "outputs": [
    {
     "name": "stdout",
     "output_type": "stream",
     "text": [
      "No. of samples in train set:60000\n",
      "No. of samples in test set:10000\n"
     ]
    }
   ],
   "source": [
    "print('No. of samples in train set:' + str(len(trainLoader.dataset)))\n",
    "print('No. of samples in test set:' + str(len(testLoader.dataset)))"
   ]
  },
  {
   "cell_type": "markdown",
   "metadata": {},
   "source": [
    "Check to see if it has loaded correctly"
   ]
  },
  {
   "cell_type": "code",
   "execution_count": 24,
   "metadata": {},
   "outputs": [
    {
     "data": {
      "text/plain": [
       "<matplotlib.image.AxesImage at 0x20fac727940>"
      ]
     },
     "execution_count": 24,
     "metadata": {},
     "output_type": "execute_result"
    },
    {
     "data": {
      "image/png": "[encoded data removed]",
      "text/plain": [
       "<Figure size 432x288 with 1 Axes>"
      ]
     },
     "metadata": {
      "needs_background": "light"
     },
     "output_type": "display_data"
    }
   ],
   "source": [
    "img = trainLoader.dataset[0][0]\n",
    "img_np = img.squeeze(0).numpy()\n",
    "plt.imshow(img_np, cmap='gray')"
   ]
  },
  {
   "cell_type": "markdown",
   "metadata": {},
   "source": [
    "Defining AutoEncoder Class"
   ]
  },
  {
   "cell_type": "code",
   "execution_count": 25,
   "metadata": {},
   "outputs": [],
   "source": [
    "class autoencoder(nn.Module):\n",
    "    def __init__(self):\n",
    "        super(autoencoder, self).__init__()\n",
    "        self.encoder = nn.Sequential(\n",
    "            nn.Linear(28*28, 100),  # Takes input and sends to 1st 100 neurons \n",
    "            nn.ReLU(),              # Goes through activation function \n",
    "            nn.Linear(100, 100),    # Takes input from 1st 100 neurons and goes through first hidden layer\n",
    "            nn.ReLU()\n",
    "        )\n",
    "        self.decoder = nn.Sequential(\n",
    "            nn.Linear(100, 100),    # goes through second hidden layer\n",
    "            nn.ReLU(),              # Goes through activation function \n",
    "            nn.Linear(100, 28*28),  # Gives output as an image\n",
    "            nn.ReLU()\n",
    "        )\n",
    "\n",
    "    def forward(self, x):\n",
    "        x = self.encoder(x)\n",
    "        x = self.decoder(x)\n",
    "        return(x)"
   ]
  },
  {
   "cell_type": "code",
   "execution_count": 26,
   "metadata": {},
   "outputs": [],
   "source": [
    "def train_model_recon(model, criterion, optimizer, num_epochs):\n",
    "    start = time.time()\n",
    "    train_loss = []         # List for saving the loss per epoch\n",
    "\n",
    "    for epoch in range(num_epochs):\n",
    "        epochStartTime = time.time()\n",
    "        print('Epoch {}/{}'.format(epoch, num_epochs - 1))\n",
    "\n",
    "        running_loss = 0.0\n",
    "        # Loading data in batches\n",
    "        batch = 0\n",
    "        for data in trainLoader:\n",
    "            inputs,labels = data\n",
    "            # Wrap them in variable\n",
    "            # if use_gpu:\n",
    "            #     inputs,labels = Variable(inputs.view(inputs.size(0), -1).cuda()), Variable(inputs.view(inputs.size(0), -1).cuda())\n",
    "            # else:\n",
    "            #     inputs,labels = Variable(inputs.view(inputs.size(0), -1)), Variable(inputs.view(inputs.size(0), -1))\n",
    "            inputs,labels = Variable(inputs.view(inputs.size(0), -1)), Variable(inputs.view(inputs.size(0), -1))\n",
    "            # Initializing model gradients to zero\n",
    "            model.zero_grad()\n",
    "            # Data feed-forward through the network\n",
    "            outputs = model(inputs)\n",
    "            loss = criterion(outputs, labels)\n",
    "\n",
    "            # Backpropagating the loss and updating the model parameters\n",
    "            loss.backward()\n",
    "            optimizer.step()\n",
    "\n",
    "            # Accumulating the loss for each batch\n",
    "            running_loss += loss\n",
    "            if batch == 0:\n",
    "                totalLoss = loss\n",
    "                batch +=1\n",
    "            else:\n",
    "                totalLoss = loss\n",
    "                batch +=1\n",
    "\n",
    "        epoch_loss = running_loss/50000 # Total loss for 1 epoch\n",
    "        train_loss.append(epoch_loss) # Saving the loss over epochs for plotting \n",
    "\n",
    "        print('Epoch loss: {:.6f}'.format(epoch_loss))\n",
    "        epochTimeEnd = time.time() - epochStartTime\n",
    "        print('Epoch complete in {:.0f}m {:.0f}s'.format(\n",
    "            epochTimeEnd // 60, epochTimeEnd % 60\n",
    "        ))\n",
    "        print('-' * 25)\n",
    "\n",
    "        # Plotting Loss vs Epochs\n",
    "        # fig1 = plt.figure(1)\n",
    "        # plt.plot(range(epoch+1), train_loss, 'r--', label = 'train')\n",
    "        # if epoch == 0:\n",
    "        #     plt.legend(loc='upper left')\n",
    "        #     plt.xlabel('Epochs')\n",
    "        #     plt.ylabel('Loss')\n",
    "        # fig1.savefig('aeRecon_lossPlot.png')\n",
    "    \n",
    "    time_elapsed = time.time() - start\n",
    "    print('Training complete in complete in {:.0f}m {:.0f}s'.format(\n",
    "        time_elapsed // 60, time_elapsed % 60\n",
    "    ))\n",
    "\n",
    "    return model\n"
   ]
  },
  {
   "cell_type": "markdown",
   "metadata": {},
   "source": [
    "Model initialization and training"
   ]
  },
  {
   "cell_type": "code",
   "execution_count": 27,
   "metadata": {},
   "outputs": [
    {
     "name": "stdout",
     "output_type": "stream",
     "text": [
      "autoencoder(\n",
      "  (encoder): Sequential(\n",
      "    (0): Linear(in_features=784, out_features=100, bias=True)\n",
      "    (1): ReLU()\n",
      "    (2): Linear(in_features=100, out_features=100, bias=True)\n",
      "    (3): ReLU()\n",
      "  )\n",
      "  (decoder): Sequential(\n",
      "    (0): Linear(in_features=100, out_features=100, bias=True)\n",
      "    (1): ReLU()\n",
      "    (2): Linear(in_features=100, out_features=784, bias=True)\n",
      "    (3): ReLU()\n",
      "  )\n",
      ")\n"
     ]
    }
   ],
   "source": [
    "net = autoencoder()\n",
    "print(net)\n",
    "# if use_gpu:\n",
    "#     net = net.cuda()\n",
    "inti_weights = copy.deepcopy(net.encoder[0].weight.data)"
   ]
  },
  {
   "cell_type": "code",
   "execution_count": 28,
   "metadata": {},
   "outputs": [
    {
     "name": "stdout",
     "output_type": "stream",
     "text": [
      "Epoch 0/19\n",
      "Epoch loss: 0.000148\n",
      "Epoch complete in 0m 14s\n",
      "-------------------------\n",
      "Epoch 1/19\n",
      "Epoch loss: 0.000106\n",
      "Epoch complete in 0m 15s\n",
      "-------------------------\n",
      "Epoch 2/19\n",
      "Epoch loss: 0.000083\n",
      "Epoch complete in 0m 13s\n",
      "-------------------------\n",
      "Epoch 3/19\n",
      "Epoch loss: 0.000072\n",
      "Epoch complete in 0m 12s\n",
      "-------------------------\n",
      "Epoch 4/19\n",
      "Epoch loss: 0.000066\n",
      "Epoch complete in 0m 16s\n",
      "-------------------------\n",
      "Epoch 5/19\n",
      "Epoch loss: 0.000060\n",
      "Epoch complete in 0m 14s\n",
      "-------------------------\n",
      "Epoch 6/19\n",
      "Epoch loss: 0.000055\n",
      "Epoch complete in 0m 13s\n",
      "-------------------------\n",
      "Epoch 7/19\n",
      "Epoch loss: 0.000053\n",
      "Epoch complete in 0m 13s\n",
      "-------------------------\n",
      "Epoch 8/19\n",
      "Epoch loss: 0.000051\n",
      "Epoch complete in 0m 15s\n",
      "-------------------------\n",
      "Epoch 9/19\n",
      "Epoch loss: 0.000050\n",
      "Epoch complete in 0m 14s\n",
      "-------------------------\n",
      "Epoch 10/19\n",
      "Epoch loss: 0.000049\n",
      "Epoch complete in 0m 14s\n",
      "-------------------------\n",
      "Epoch 11/19\n",
      "Epoch loss: 0.000048\n",
      "Epoch complete in 0m 13s\n",
      "-------------------------\n",
      "Epoch 12/19\n",
      "Epoch loss: 0.000047\n",
      "Epoch complete in 0m 13s\n",
      "-------------------------\n",
      "Epoch 13/19\n",
      "Epoch loss: 0.000046\n",
      "Epoch complete in 0m 13s\n",
      "-------------------------\n",
      "Epoch 14/19\n",
      "Epoch loss: 0.000045\n",
      "Epoch complete in 0m 12s\n",
      "-------------------------\n",
      "Epoch 15/19\n",
      "Epoch loss: 0.000045\n",
      "Epoch complete in 0m 13s\n",
      "-------------------------\n",
      "Epoch 16/19\n",
      "Epoch loss: 0.000044\n",
      "Epoch complete in 0m 15s\n",
      "-------------------------\n",
      "Epoch 17/19\n",
      "Epoch loss: 0.000044\n",
      "Epoch complete in 0m 13s\n",
      "-------------------------\n",
      "Epoch 18/19\n",
      "Epoch loss: 0.000043\n",
      "Epoch complete in 0m 13s\n",
      "-------------------------\n",
      "Epoch 19/19\n",
      "Epoch loss: 0.000043\n",
      "Epoch complete in 0m 14s\n",
      "-------------------------\n",
      "Training complete in complete in 4m 32s\n"
     ]
    }
   ],
   "source": [
    "criterion = nn.MSELoss()\n",
    "optimizer = optim.SGD(net.parameters(), lr = 0.5, momentum=0.9)\n",
    "net = train_model_recon(net, criterion, optimizer, num_epochs=20)"
   ]
  },
  {
   "cell_type": "markdown",
   "metadata": {},
   "source": [
    "Reconstruction using autoencoder"
   ]
  },
  {
   "cell_type": "code",
   "execution_count": 29,
   "metadata": {},
   "outputs": [
    {
     "data": {
      "image/png": "[encoded data removed]",
      "text/plain": [
       "<Figure size 432x288 with 2 Axes>"
      ]
     },
     "metadata": {
      "needs_background": "light"
     },
     "output_type": "display_data"
    }
   ],
   "source": [
    "TestImg = testLoader.dataset[0][0]\n",
    "\n",
    "# if use_gpu:\n",
    "#     outputImg = net(Variable(TestImg.view(TestImg.size(0), -1)).cuda())\n",
    "# else:\n",
    "#     outputImg = net(Variable(TestImg.view(TestImg.size(0), -1)))\n",
    "\n",
    "outputImg = net(Variable(TestImg.view(TestImg.size(0), -1)))\n",
    "\n",
    "outputImg = outputImg.data.view(-1, 28, 28).cpu()\n",
    "\n",
    "fig = plt.figure()\n",
    "\n",
    "plot = fig.add_subplot(1, 2, 1)\n",
    "img = np.array(TestImg.numpy())[0]\n",
    "plot.set_title('Original Image')\n",
    "imgplot = plt.imshow(img, cmap='gray')\n",
    "\n",
    "plot = fig.add_subplot(1, 2, 2)\n",
    "img = np.array(outputImg.numpy())[0]\n",
    "plot.set_title('Reconstructed Image')\n",
    "imgplot = plt.imshow(img, cmap='gray')\n",
    "\n",
    "plt.show()"
   ]
  },
  {
   "cell_type": "markdown",
   "metadata": {},
   "source": [
    "Visualization of weights of encoder"
   ]
  },
  {
   "cell_type": "code",
   "execution_count": 30,
   "metadata": {},
   "outputs": [],
   "source": [
    "trained_weights = copy.deepcopy(net.encoder[0].weight.data)"
   ]
  },
  {
   "cell_type": "code",
   "execution_count": 31,
   "metadata": {},
   "outputs": [
    {
     "data": {
      "image/png": "[encoded data removed]",
      "text/plain": [
       "<Figure size 432x288 with 3 Axes>"
      ]
     },
     "metadata": {
      "needs_background": "light"
     },
     "output_type": "display_data"
    }
   ],
   "source": [
    "inti_weights = (1 + inti_weights)*127.5\n",
    "trained_weights = (1 + trained_weights)*127.5\n",
    "\n",
    "# if use_gpu:\n",
    "#     inti_weights = inti_weights.view(-1, 280, 280).byte().cpu()\n",
    "#     trained_weights = trained_weights.view(-1, 280, 280).byte().cpu()\n",
    "# else:\n",
    "#     inti_weights = inti_weights.view(-1, 280, 280).byte()\n",
    "#     trained_weights = trained_weights.view(-1, 280, 280).byte()\n",
    "inti_weights = inti_weights.view(-1, 280, 280).byte()\n",
    "trained_weights = trained_weights.view(-1, 280, 280).byte()\n",
    "\n",
    "d_weights = inti_weights - trained_weights\n",
    "\n",
    "fig = plt.figure()\n",
    "\n",
    "plot = fig.add_subplot(1,3,1)\n",
    "img = np.array(inti_weights.numpy())[0]\n",
    "plot.set_title('Initial weights')\n",
    "imgplot = plt.imshow(img, cmap='gray')\n",
    "\n",
    "plot = fig.add_subplot(1,3,2)\n",
    "img = np.array(trained_weights.numpy())[0]\n",
    "plot.set_title('Trained weights')\n",
    "imgplot = plt.imshow(img, cmap='gray')\n",
    "\n",
    "plot = fig.add_subplot(1,3,3)\n",
    "img = np.array(d_weights.numpy())[0]\n",
    "plot.set_title('Weight update')\n",
    "imgplot = plt.imshow(img, cmap='gray')\n",
    "\n",
    "plt.show()"
   ]
  },
  {
   "cell_type": "markdown",
   "metadata": {},
   "source": [
    "Autoencoder for classification"
   ]
  },
  {
   "cell_type": "code",
   "execution_count": 32,
   "metadata": {},
   "outputs": [
    {
     "name": "stdout",
     "output_type": "stream",
     "text": [
      "Sequential(\n",
      "  (0): Sequential(\n",
      "    (0): Linear(in_features=784, out_features=100, bias=True)\n",
      "    (1): ReLU()\n",
      "    (2): Linear(in_features=100, out_features=100, bias=True)\n",
      "    (3): ReLU()\n",
      "  )\n",
      "  (classifier): Sequential(\n",
      "    (0): Linear(in_features=100, out_features=10, bias=True)\n",
      "    (1): LogSoftmax(dim=None)\n",
      "  )\n",
      ")\n"
     ]
    }
   ],
   "source": [
    "new_classifier = nn.Sequential(*list(net.children())[:-1])\n",
    "net = new_classifier\n",
    "net.add_module('classifier', nn.Sequential(nn.Linear(100,10), nn.LogSoftmax()))\n",
    "print(net)\n",
    "# if use_gpu:\n",
    "#     net = net.cuda()\n",
    "call_weights = copy.deepcopy(net[0][0].weight.data)\n",
    "init_classifier_weights = copy.deepcopy(net.classifier[0].weight.data)"
   ]
  },
  {
   "cell_type": "markdown",
   "metadata": {},
   "source": [
    "Defining function for training the network for classification"
   ]
  },
  {
   "cell_type": "code",
   "execution_count": 33,
   "metadata": {},
   "outputs": [],
   "source": [
    "def train_model_classifier(model, criterion, optimizer, num_epochs):\n",
    "    start = time.time()\n",
    "    train_loss = []         # List for saving the loss per epoch\n",
    "    train_acc = []\n",
    "\n",
    "    for epoch in range(num_epochs):\n",
    "        epochStartTime = time.time()\n",
    "        print('Epoch {}/{}'.format(epoch, num_epochs - 1))\n",
    "\n",
    "        running_loss = 0.0\n",
    "        running_corrects = 0.0\n",
    "        # Loading data in batches\n",
    "        batch = 0\n",
    "        for data in trainLoader:\n",
    "            inputs,labels = data\n",
    "            # Wrap them in variable\n",
    "            # if use_gpu:\n",
    "            #     inputs,labels = Variable(inputs.view(inputs.size(0), -1).cuda()), Variable(inputs.view(inputs.size(0), -1).cuda())\n",
    "            # else:\n",
    "            #     inputs,labels = Variable(inputs.view(inputs.size(0), -1)), Variable(inputs.view(inputs.size(0), -1))\n",
    "            inputs,labels = Variable(inputs.view(inputs.size(0), -1)), Variable(labels)\n",
    "            # Initializing model gradients to zero\n",
    "            model.zero_grad()\n",
    "            # Data feed-forward through the network\n",
    "            outputs = model(inputs)\n",
    "            loss = criterion(outputs, labels)\n",
    "\n",
    "            # Backpropagating the loss and updating the model parameters\n",
    "            loss.backward()\n",
    "            optimizer.step()\n",
    "\n",
    "            # Accumulating the loss for each batch\n",
    "            running_loss += loss\n",
    "            _, preds = torch.max(outputs.data, 1)\n",
    "\n",
    "            # Accumulating correct predictions for each batch\n",
    "            running_corrects += torch.sum(preds == labels.data)\n",
    "\n",
    "        epoch_loss = running_loss/60000.0 # Total loss for 1 epoch\n",
    "        train_loss.append(epoch_loss) # Saving the loss over epochs for plotting \n",
    "        epoch_acc = float(running_corrects) / 60000.0\n",
    "        train_acc.append(epoch_acc)\n",
    "\n",
    "        print('Epoch loss: {:.6f}, Epoch accuracy: {:.6f}'.format(epoch_loss, epoch_acc))\n",
    "        epochTimeEnd = time.time() - epochStartTime\n",
    "        print('Epoch complete in {:.0f}m {:.0f}s'.format(\n",
    "            epochTimeEnd // 60, epochTimeEnd % 60\n",
    "        ))\n",
    "        print('-' * 25)\n",
    "\n",
    "        # Plotting Loss vs Epochs\n",
    "        # fig1 = plt.figure(1)\n",
    "        # plt.plot(range(epoch+1), train_loss, 'r--', label = 'train')\n",
    "        # if epoch == 0:\n",
    "        #     plt.legend(loc='upper left')\n",
    "        #     plt.xlabel('Epochs')\n",
    "        #     plt.ylabel('Loss')\n",
    "        # fig1.savefig('aeRecon_lossPlot.png')\n",
    "    \n",
    "    time_elapsed = time.time() - start\n",
    "    print('Training complete in complete in {:.0f}m {:.0f}s'.format(\n",
    "        time_elapsed // 60, time_elapsed % 60\n",
    "    ))\n",
    "\n",
    "    return model"
   ]
  },
  {
   "cell_type": "code",
   "execution_count": 34,
   "metadata": {},
   "outputs": [
    {
     "name": "stdout",
     "output_type": "stream",
     "text": [
      "Epoch 0/19\n"
     ]
    },
    {
     "name": "stderr",
     "output_type": "stream",
     "text": [
      "c:\\Users\\SAMSUNG\\AppData\\Local\\Programs\\Python\\Python310\\lib\\site-packages\\torch\\nn\\modules\\container.py:204: UserWarning: Implicit dimension choice for log_softmax has been deprecated. Change the call to include dim=X as an argument.\n",
      "  input = module(input)\n"
     ]
    },
    {
     "name": "stdout",
     "output_type": "stream",
     "text": [
      "Epoch loss: 0.001259, Epoch accuracy: 0.548283\n",
      "Epoch complete in 0m 15s\n",
      "-------------------------\n",
      "Epoch 1/19\n",
      "Epoch loss: 0.000714, Epoch accuracy: 0.729033\n",
      "Epoch complete in 0m 14s\n",
      "-------------------------\n",
      "Epoch 2/19\n",
      "Epoch loss: 0.000628, Epoch accuracy: 0.775033\n",
      "Epoch complete in 0m 15s\n",
      "-------------------------\n",
      "Epoch 3/19\n",
      "Epoch loss: 0.000580, Epoch accuracy: 0.796067\n",
      "Epoch complete in 0m 19s\n",
      "-------------------------\n",
      "Epoch 4/19\n",
      "Epoch loss: 0.000545, Epoch accuracy: 0.809233\n",
      "Epoch complete in 0m 17s\n",
      "-------------------------\n",
      "Epoch 5/19\n",
      "Epoch loss: 0.000517, Epoch accuracy: 0.819833\n",
      "Epoch complete in 0m 13s\n",
      "-------------------------\n",
      "Epoch 6/19\n",
      "Epoch loss: 0.000495, Epoch accuracy: 0.827017\n",
      "Epoch complete in 0m 13s\n",
      "-------------------------\n",
      "Epoch 7/19\n",
      "Epoch loss: 0.000483, Epoch accuracy: 0.830867\n",
      "Epoch complete in 0m 13s\n",
      "-------------------------\n",
      "Epoch 8/19\n",
      "Epoch loss: 0.000466, Epoch accuracy: 0.835633\n",
      "Epoch complete in 0m 14s\n",
      "-------------------------\n",
      "Epoch 9/19\n",
      "Epoch loss: 0.000457, Epoch accuracy: 0.837983\n",
      "Epoch complete in 0m 13s\n",
      "-------------------------\n",
      "Epoch 10/19\n",
      "Epoch loss: 0.000448, Epoch accuracy: 0.842350\n",
      "Epoch complete in 0m 13s\n",
      "-------------------------\n",
      "Epoch 11/19\n",
      "Epoch loss: 0.000440, Epoch accuracy: 0.844100\n",
      "Epoch complete in 0m 13s\n",
      "-------------------------\n",
      "Epoch 12/19\n",
      "Epoch loss: 0.000433, Epoch accuracy: 0.848383\n",
      "Epoch complete in 0m 14s\n",
      "-------------------------\n",
      "Epoch 13/19\n",
      "Epoch loss: 0.000425, Epoch accuracy: 0.850533\n",
      "Epoch complete in 0m 15s\n",
      "-------------------------\n",
      "Epoch 14/19\n",
      "Epoch loss: 0.000420, Epoch accuracy: 0.851867\n",
      "Epoch complete in 0m 13s\n",
      "-------------------------\n",
      "Epoch 15/19\n",
      "Epoch loss: 0.000413, Epoch accuracy: 0.854983\n",
      "Epoch complete in 0m 14s\n",
      "-------------------------\n",
      "Epoch 16/19\n",
      "Epoch loss: 0.000409, Epoch accuracy: 0.855417\n",
      "Epoch complete in 0m 13s\n",
      "-------------------------\n",
      "Epoch 17/19\n",
      "Epoch loss: 0.000407, Epoch accuracy: 0.857083\n",
      "Epoch complete in 0m 13s\n",
      "-------------------------\n",
      "Epoch 18/19\n",
      "Epoch loss: 0.000399, Epoch accuracy: 0.859400\n",
      "Epoch complete in 0m 13s\n",
      "-------------------------\n",
      "Epoch 19/19\n",
      "Epoch loss: 0.000396, Epoch accuracy: 0.860633\n",
      "Epoch complete in 0m 14s\n",
      "-------------------------\n",
      "Training complete in complete in 4m 41s\n"
     ]
    }
   ],
   "source": [
    "criterion = nn.NLLLoss()\n",
    "optimizer = optim.SGD(net.parameters(), lr = 0.01, momentum=0.9)\n",
    "net = train_model_classifier(net, criterion, optimizer, num_epochs=20)"
   ]
  },
  {
   "cell_type": "code",
   "execution_count": 35,
   "metadata": {},
   "outputs": [
    {
     "name": "stdout",
     "output_type": "stream",
     "text": [
      "Accuracy on test set = tensor(0.8379)\n"
     ]
    }
   ],
   "source": [
    "test_running_corr = 0\n",
    "\n",
    "batches = 0\n",
    "running_corrects = 0.0\n",
    "\n",
    "for tsData in testLoader:\n",
    "    inputs,labels = tsData\n",
    "    # Wrap them in variable\n",
    "    # if use_gpu:\n",
    "    #     inputs,labels = Variable(inputs.view(inputs.size(0), -1).cuda()), Variable(inputs.view(inputs.size(0), -1).cuda())\n",
    "    # else:\n",
    "    #     inputs,labels = Variable(inputs.view(inputs.size(0), -1)), Variable(inputs.view(inputs.size(0), -1))\n",
    "    inputs,labels = Variable(inputs.view(inputs.size(0), -1)), Variable(labels)\n",
    "    # Initializing model gradients to zero\n",
    "    output = net(inputs)\n",
    "    _, preds = output.data.max(1)\n",
    "    running_corrects += torch.sum(preds == labels.data)\n",
    "\n",
    "ts_acc = running_corrects / 10000.0\n",
    "print('Accuracy on test set = ' + str(ts_acc))"
   ]
  },
  {
   "cell_type": "code",
   "execution_count": 36,
   "metadata": {},
   "outputs": [
    {
     "data": {
      "text/plain": [
       "<AxesSubplot:>"
      ]
     },
     "execution_count": 36,
     "metadata": {},
     "output_type": "execute_result"
    },
    {
     "data": {
      "image/png": "[encoded data removed]",
      "text/plain": [
       "<Figure size 1152x648 with 2 Axes>"
      ]
     },
     "metadata": {
      "needs_background": "light"
     },
     "output_type": "display_data"
    }
   ],
   "source": [
    "pyplot.figure(figsize=(16,9))\n",
    "cm=confusion_matrix(labels.data,preds)\n",
    "\n",
    "sns.heatmap(cm, annot=True, fmt='d')\n"
   ]
  },
  {
   "cell_type": "code",
   "execution_count": 37,
   "metadata": {},
   "outputs": [
    {
     "name": "stdout",
     "output_type": "stream",
     "text": [
      "              precision    recall  f1-score   support\n",
      "\n",
      "           0       0.79      0.84      0.81        73\n",
      "           1       0.97      0.97      0.97        80\n",
      "           2       0.70      0.81      0.75        77\n",
      "           3       0.87      0.89      0.88        82\n",
      "           4       0.74      0.79      0.77        87\n",
      "           5       0.92      0.93      0.92        71\n",
      "           6       0.75      0.43      0.55        83\n",
      "           7       0.92      0.94      0.93        82\n",
      "           8       0.88      0.97      0.92        74\n",
      "           9       0.93      0.93      0.93        75\n",
      "\n",
      "    accuracy                           0.85       784\n",
      "   macro avg       0.85      0.85      0.84       784\n",
      "weighted avg       0.85      0.85      0.84       784\n",
      "\n"
     ]
    }
   ],
   "source": [
    "cr= classification_report(labels.data,preds)\n",
    "\n",
    "print(cr)"
   ]
  },
  {
   "cell_type": "code",
   "execution_count": null,
   "metadata": {},
   "outputs": [],
   "source": []
  }
 ],
 "metadata": {
  "kernelspec": {
   "display_name": "Python 3.10.2 64-bit",
   "language": "python",
   "name": "python3"
  },
  "language_info": {
   "codemirror_mode": {
    "name": "ipython",
    "version": 3
   },
   "file_extension": ".py",
   "mimetype": "text/x-python",
   "name": "python",
   "nbconvert_exporter": "python",
   "pygments_lexer": "ipython3",
   "version": "3.10.2"
  },
  "orig_nbformat": 4,
  "vscode": {
   "interpreter": {
    "hash": "e520b3ff7cf246111ae6aaa8c952e6cb93639346388a365209613764d9559090"
   }
  }
 },
 "nbformat": 4,
 "nbformat_minor": 2
}
